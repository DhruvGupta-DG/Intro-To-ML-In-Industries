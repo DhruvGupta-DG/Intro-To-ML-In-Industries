{
 "cells": [
  {
   "cell_type": "code",
   "execution_count": 1,
   "metadata": {},
   "outputs": [
    {
     "ename": "ModuleNotFoundError",
     "evalue": "No module named 'torchHHT'",
     "output_type": "error",
     "traceback": [
      "\u001b[1;31m---------------------------------------------------------------------------\u001b[0m",
      "\u001b[1;31mModuleNotFoundError\u001b[0m                       Traceback (most recent call last)",
      "Cell \u001b[1;32mIn[1], line 4\u001b[0m\n\u001b[0;32m      2\u001b[0m \u001b[39mimport\u001b[39;00m \u001b[39mnumpy\u001b[39;00m \u001b[39mas\u001b[39;00m \u001b[39mnp\u001b[39;00m\n\u001b[0;32m      3\u001b[0m \u001b[39mfrom\u001b[39;00m \u001b[39mmatplotlib\u001b[39;00m \u001b[39mimport\u001b[39;00m pyplot \u001b[39mas\u001b[39;00m plt\n\u001b[1;32m----> 4\u001b[0m \u001b[39mfrom\u001b[39;00m \u001b[39mtorchHHT\u001b[39;00m \u001b[39mimport\u001b[39;00m hht, visualization\n\u001b[0;32m      5\u001b[0m \u001b[39mfrom\u001b[39;00m \u001b[39mscipy\u001b[39;00m\u001b[39m.\u001b[39;00m\u001b[39msignal\u001b[39;00m \u001b[39mimport\u001b[39;00m chirp\n\u001b[0;32m      6\u001b[0m \u001b[39mimport\u001b[39;00m \u001b[39mIPython\u001b[39;00m\n",
      "\u001b[1;31mModuleNotFoundError\u001b[0m: No module named 'torchHHT'"
     ]
    }
   ],
   "source": [
    "import torch\n",
    "import numpy as np\n",
    "from matplotlib import pyplot as plt\n",
    "from torchHHT import hht, visualization\n",
    "from scipy.signal import chirp\n",
    "import IPython\n",
    "fs = 1000\n",
    "duration = 2.0\n",
    "t = torch.arange(fs*duration) / fs\n",
    "x = torch.from_numpy(chirp(t, 5, 0.8, 10, method = \"quadratic\", phi=100)) * torch.exp(-4*(t-1)**2) + \\\n",
    "    torch.from_numpy(chirp(t, 40, 1.2, 50, method = \"linear\")) * torch.exp(-4*(t-1)**2)\n",
    "\n",
    "plt.plot(t, x) \n",
    "plt.title(\"$x(t)$\")\n",
    "plt.xlabel(\"time\")\n",
    "plt.show()\n",
    "imfs, imfs_env, imfs_freq = hht.hilbert_huang(x, fs, num_imf=3)\n",
    "visualization.plot_IMFs(x, imfs, fs, save_fig=\"img/emd.png\")\n",
    "spectrum, t, f = hht.hilbert_spectrum(imfs_env, imfs_freq, fs, freq_lim = (0, 60), time_scale=1, freq_res = 1)\n",
    "visualization.plot_HilbertSpectrum(spectrum, t, f, \n",
    "                                    save_spectrum=\"img/Hilbert_spectrum.png\", \n",
    "                                    save_marginal=\"img/Hilbert_marginal.png\")\n",
    "from scipy.signal import stft\n",
    "from torch import fft\n",
    "plt.figure(figsize=(20, 4))\n",
    "\n",
    "f, t, Zxx = stft(x, fs, nperseg=1024, noverlap=1023, nfft=1024)\n",
    "f_lim = int(60/f[1])\n",
    "ax = plt.subplot(1, 3, 1)\n",
    "plt.colorbar(ax.pcolormesh(t, f[:f_lim], 20 * np.log10(np.abs(Zxx))[:f_lim, :], shading='auto', cmap = plt.cm.jet),            \n",
    "            label=\"energy(dB)\")\n",
    "ax.set_xlabel(\"time\")\n",
    "ax.set_ylabel(\"frequency\")\n",
    "ax.set_title(\"(a) Spectrogram (long window)\")\n",
    "\n",
    "f, t, Zxx = stft(x, fs, nperseg=128, noverlap=127, nfft = 1024)\n",
    "f_lim = int(60/f[1])\n",
    "ax = plt.subplot(1, 3, 2)\n",
    "plt.colorbar(ax.pcolormesh(t, f[:f_lim], 20 * np.log10(np.abs(Zxx))[:f_lim, :], shading='auto', cmap = plt.cm.jet), \n",
    "            label=\"energy(dB)\")\n",
    "ax.set_xlabel(\"time\")\n",
    "ax.set_ylabel(\"frequency\")\n",
    "ax.set_title(\"(b) Spectrogram (short window)\")\n",
    "\n",
    "X = fft.fft(x)\n",
    "ax = plt.subplot(1, 3, 3)\n",
    "f_lim = int(100/fs*x.shape[0])\n",
    "ax.plot(np.arange(f_lim)/x.shape[0]*fs, 20 * np.log10(np.abs(X))[:f_lim])\n",
    "ax.set_xlim(0, 60)\n",
    "ax.set_xlabel(\"frequency\")\n",
    "ax.set_ylabel(\"energy (dB)\")\n",
    "ax.set_title(\"(c) marginal spectrum.\")\n",
    "plt.savefig(\"img/STFT_spectrum.png\", dpi = 600)\n",
    "plt.show()"
   ]
  },
  {
   "cell_type": "code",
   "execution_count": null,
   "metadata": {},
   "outputs": [],
   "source": []
  }
 ],
 "metadata": {
  "kernelspec": {
   "display_name": "Python 3",
   "language": "python",
   "name": "python3"
  },
  "language_info": {
   "codemirror_mode": {
    "name": "ipython",
    "version": 3
   },
   "file_extension": ".py",
   "mimetype": "text/x-python",
   "name": "python",
   "nbconvert_exporter": "python",
   "pygments_lexer": "ipython3",
   "version": "3.11.1"
  },
  "orig_nbformat": 4
 },
 "nbformat": 4,
 "nbformat_minor": 2
}
