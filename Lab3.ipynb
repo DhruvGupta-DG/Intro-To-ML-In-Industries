{
 "cells": [
  {
   "cell_type": "markdown",
   "metadata": {
    "papermill": {
     "duration": 0.007979,
     "end_time": "2021-02-05T08:45:13.056882",
     "exception": false,
     "start_time": "2021-02-05T08:45:13.048903",
     "status": "completed"
    },
    "tags": []
   },
   "source": [
    "### Import Libraries"
   ]
  },
  {
   "cell_type": "code",
   "execution_count": 1,
   "metadata": {
    "execution": {
     "iopub.execute_input": "2021-02-05T08:45:13.079837Z",
     "iopub.status.busy": "2021-02-05T08:45:13.079064Z",
     "iopub.status.idle": "2021-02-05T08:45:13.081225Z",
     "shell.execute_reply": "2021-02-05T08:45:13.081694Z"
    },
    "papermill": {
     "duration": 0.016656,
     "end_time": "2021-02-05T08:45:13.082021",
     "exception": false,
     "start_time": "2021-02-05T08:45:13.065365",
     "status": "completed"
    },
    "tags": []
   },
   "outputs": [],
   "source": [
    "import math\n",
    "import pandas as pd\n",
    "from operator import itemgetter"
   ]
  },
  {
   "cell_type": "markdown",
   "metadata": {
    "papermill": {
     "duration": 0.008116,
     "end_time": "2021-02-05T08:45:13.099210",
     "exception": false,
     "start_time": "2021-02-05T08:45:13.091094",
     "status": "completed"
    },
    "tags": []
   },
   "source": [
    "### Simple Decision Tree Class"
   ]
  },
  {
   "cell_type": "code",
   "execution_count": 2,
   "metadata": {
    "execution": {
     "iopub.execute_input": "2021-02-05T08:45:13.119514Z",
     "iopub.status.busy": "2021-02-05T08:45:13.118868Z",
     "iopub.status.idle": "2021-02-05T08:45:13.132474Z",
     "shell.execute_reply": "2021-02-05T08:45:13.132969Z"
    },
    "papermill": {
     "duration": 0.025438,
     "end_time": "2021-02-05T08:45:13.133167",
     "exception": false,
     "start_time": "2021-02-05T08:45:13.107729",
     "status": "completed"
    },
    "tags": []
   },
   "outputs": [],
   "source": [
    "class DecisionTree:\n",
    "    def __init__(self, df, target, positive, parent_val, parent):\n",
    "        self.data = df\n",
    "        self.target = target\n",
    "        self.positive = positive\n",
    "        self.parent_val = parent_val\n",
    "        self.parent = parent\n",
    "        self.childs = []\n",
    "        self.decision = ''\n",
    "\n",
    "    def _get_entropy(self, data):\n",
    "        p = sum(data[self.target]==self.positive)\n",
    "        n = data.shape[0] - p\n",
    "        p_ratio = p/(p+n)\n",
    "        n_ratio = 1 - p_ratio\n",
    "        entropy_p = -p_ratio*math.log2(p_ratio) if p_ratio != 0 else 0\n",
    "        entropy_n = - n_ratio*math.log2(n_ratio) if n_ratio !=0 else 0\n",
    "        return entropy_p + entropy_n\n",
    "    \n",
    "    def _get_gain(self, feat):\n",
    "        avg_info=0\n",
    "        for val in self.data[feat].unique():\n",
    "            avg_info+=self._get_entropy(self.data[self.data[feat] == val])*sum(self.data[feat]==val)/self.data.shape[0]\n",
    "        return self._get_entropy(df) - avg_info\n",
    "    \n",
    "    def _get_splitter(self):\n",
    "        self.splitter = max(self.gains, key = itemgetter(1))[0] \n",
    "    \n",
    "    def update_nodes(self):\n",
    "        self.features = [col for col in self.data.columns if col != self.target]\n",
    "        self.entropy = self._get_entropy(self.data)\n",
    "        if self.entropy != 0:\n",
    "            self.gains = [(feat, self._get_gain(feat)) for feat in self.features]\n",
    "            self._get_splitter()\n",
    "            residual_columns = [k for k in self.data.columns if k != self.splitter]\n",
    "            for val in self.data[self.splitter].unique():\n",
    "                df_tmp = self.data[self.data[self.splitter]==val][residual_columns]\n",
    "                tmp_node = DecisionTree(df_tmp, self.target, self.positive, val, self.splitter)\n",
    "                tmp_node.update_nodes()\n",
    "                self.childs.append(tmp_node)"
   ]
  },
  {
   "cell_type": "markdown",
   "metadata": {
    "papermill": {
     "duration": 0.008334,
     "end_time": "2021-02-05T08:45:13.150261",
     "exception": false,
     "start_time": "2021-02-05T08:45:13.141927",
     "status": "completed"
    },
    "tags": []
   },
   "source": [
    "### Printing the tree"
   ]
  },
  {
   "cell_type": "code",
   "execution_count": 3,
   "metadata": {
    "execution": {
     "iopub.execute_input": "2021-02-05T08:45:13.170720Z",
     "iopub.status.busy": "2021-02-05T08:45:13.170122Z",
     "iopub.status.idle": "2021-02-05T08:45:13.175952Z",
     "shell.execute_reply": "2021-02-05T08:45:13.175360Z"
    },
    "papermill": {
     "duration": 0.017284,
     "end_time": "2021-02-05T08:45:13.176118",
     "exception": false,
     "start_time": "2021-02-05T08:45:13.158834",
     "status": "completed"
    },
    "tags": []
   },
   "outputs": [],
   "source": [
    "def print_tree(n):\n",
    "    for child in n.childs:\n",
    "        if child:\n",
    "            print(child.__dict__.get('parent', ''))\n",
    "            print(child.__dict__.get('parent_val', ''), '\\n')\n",
    "            print_tree(child)"
   ]
  },
  {
   "cell_type": "markdown",
   "metadata": {
    "papermill": {
     "duration": 0.008501,
     "end_time": "2021-02-05T08:45:13.193635",
     "exception": false,
     "start_time": "2021-02-05T08:45:13.185134",
     "status": "completed"
    },
    "tags": []
   },
   "source": [
    "### Sample run"
   ]
  },
  {
   "cell_type": "code",
   "execution_count": 4,
   "metadata": {
    "execution": {
     "iopub.execute_input": "2021-02-05T08:45:13.216007Z",
     "iopub.status.busy": "2021-02-05T08:45:13.215325Z",
     "iopub.status.idle": "2021-02-05T08:45:13.263672Z",
     "shell.execute_reply": "2021-02-05T08:45:13.264243Z"
    },
    "papermill": {
     "duration": 0.061966,
     "end_time": "2021-02-05T08:45:13.264416",
     "exception": false,
     "start_time": "2021-02-05T08:45:13.202450",
     "status": "completed"
    },
    "tags": []
   },
   "outputs": [
    {
     "data": {
      "text/html": [
       "<div>\n",
       "<style scoped>\n",
       "    .dataframe tbody tr th:only-of-type {\n",
       "        vertical-align: middle;\n",
       "    }\n",
       "\n",
       "    .dataframe tbody tr th {\n",
       "        vertical-align: top;\n",
       "    }\n",
       "\n",
       "    .dataframe thead th {\n",
       "        text-align: right;\n",
       "    }\n",
       "</style>\n",
       "<table border=\"1\" class=\"dataframe\">\n",
       "  <thead>\n",
       "    <tr style=\"text-align: right;\">\n",
       "      <th></th>\n",
       "      <th>Outlook</th>\n",
       "      <th>Temperature</th>\n",
       "      <th>Humidity</th>\n",
       "      <th>WindSpeed</th>\n",
       "      <th>Play</th>\n",
       "    </tr>\n",
       "  </thead>\n",
       "  <tbody>\n",
       "    <tr>\n",
       "      <th>0</th>\n",
       "      <td>Sunny</td>\n",
       "      <td>Hot</td>\n",
       "      <td>High</td>\n",
       "      <td>Weak</td>\n",
       "      <td>No</td>\n",
       "    </tr>\n",
       "    <tr>\n",
       "      <th>1</th>\n",
       "      <td>Sunny</td>\n",
       "      <td>Hot</td>\n",
       "      <td>High</td>\n",
       "      <td>Strong</td>\n",
       "      <td>No</td>\n",
       "    </tr>\n",
       "    <tr>\n",
       "      <th>2</th>\n",
       "      <td>Overcast</td>\n",
       "      <td>Hot</td>\n",
       "      <td>High</td>\n",
       "      <td>Weak</td>\n",
       "      <td>Yes</td>\n",
       "    </tr>\n",
       "    <tr>\n",
       "      <th>3</th>\n",
       "      <td>Rainy</td>\n",
       "      <td>Mild</td>\n",
       "      <td>High</td>\n",
       "      <td>Weak</td>\n",
       "      <td>Yes</td>\n",
       "    </tr>\n",
       "    <tr>\n",
       "      <th>4</th>\n",
       "      <td>Rainy</td>\n",
       "      <td>Cool</td>\n",
       "      <td>Normal</td>\n",
       "      <td>Weak</td>\n",
       "      <td>Yes</td>\n",
       "    </tr>\n",
       "    <tr>\n",
       "      <th>5</th>\n",
       "      <td>Rainy</td>\n",
       "      <td>Cool</td>\n",
       "      <td>Normal</td>\n",
       "      <td>Strong</td>\n",
       "      <td>No</td>\n",
       "    </tr>\n",
       "    <tr>\n",
       "      <th>6</th>\n",
       "      <td>Overcast</td>\n",
       "      <td>Cool</td>\n",
       "      <td>Normal</td>\n",
       "      <td>Strong</td>\n",
       "      <td>Yes</td>\n",
       "    </tr>\n",
       "    <tr>\n",
       "      <th>7</th>\n",
       "      <td>Sunny</td>\n",
       "      <td>Mild</td>\n",
       "      <td>High</td>\n",
       "      <td>Weak</td>\n",
       "      <td>No</td>\n",
       "    </tr>\n",
       "    <tr>\n",
       "      <th>8</th>\n",
       "      <td>Sunny</td>\n",
       "      <td>Cool</td>\n",
       "      <td>Normal</td>\n",
       "      <td>Weak</td>\n",
       "      <td>Yes</td>\n",
       "    </tr>\n",
       "    <tr>\n",
       "      <th>9</th>\n",
       "      <td>Rainy</td>\n",
       "      <td>Mild</td>\n",
       "      <td>Normal</td>\n",
       "      <td>Weak</td>\n",
       "      <td>Yes</td>\n",
       "    </tr>\n",
       "    <tr>\n",
       "      <th>10</th>\n",
       "      <td>Sunny</td>\n",
       "      <td>Mild</td>\n",
       "      <td>Normal</td>\n",
       "      <td>Strong</td>\n",
       "      <td>Yes</td>\n",
       "    </tr>\n",
       "    <tr>\n",
       "      <th>11</th>\n",
       "      <td>Overcast</td>\n",
       "      <td>Mild</td>\n",
       "      <td>High</td>\n",
       "      <td>Strong</td>\n",
       "      <td>Yes</td>\n",
       "    </tr>\n",
       "    <tr>\n",
       "      <th>12</th>\n",
       "      <td>Overcast</td>\n",
       "      <td>Hot</td>\n",
       "      <td>Normal</td>\n",
       "      <td>Weak</td>\n",
       "      <td>Yes</td>\n",
       "    </tr>\n",
       "    <tr>\n",
       "      <th>13</th>\n",
       "      <td>Rainy</td>\n",
       "      <td>Mild</td>\n",
       "      <td>High</td>\n",
       "      <td>Strong</td>\n",
       "      <td>No</td>\n",
       "    </tr>\n",
       "  </tbody>\n",
       "</table>\n",
       "</div>"
      ],
      "text/plain": [
       "     Outlook Temperature Humidity WindSpeed Play\n",
       "0      Sunny         Hot     High      Weak   No\n",
       "1      Sunny         Hot     High    Strong   No\n",
       "2   Overcast         Hot     High      Weak  Yes\n",
       "3      Rainy        Mild     High      Weak  Yes\n",
       "4      Rainy        Cool   Normal      Weak  Yes\n",
       "5      Rainy        Cool   Normal    Strong   No\n",
       "6   Overcast        Cool   Normal    Strong  Yes\n",
       "7      Sunny        Mild     High      Weak   No\n",
       "8      Sunny        Cool   Normal      Weak  Yes\n",
       "9      Rainy        Mild   Normal      Weak  Yes\n",
       "10     Sunny        Mild   Normal    Strong  Yes\n",
       "11  Overcast        Mild     High    Strong  Yes\n",
       "12  Overcast         Hot   Normal      Weak  Yes\n",
       "13     Rainy        Mild     High    Strong   No"
      ]
     },
     "execution_count": 4,
     "metadata": {},
     "output_type": "execute_result"
    }
   ],
   "source": [
    "df = pd.read_csv('.csv')\n",
    "df"
   ]
  },
  {
   "cell_type": "code",
   "execution_count": 5,
   "metadata": {
    "execution": {
     "iopub.execute_input": "2021-02-05T08:45:13.324927Z",
     "iopub.status.busy": "2021-02-05T08:45:13.323958Z",
     "iopub.status.idle": "2021-02-05T08:45:13.328380Z",
     "shell.execute_reply": "2021-02-05T08:45:13.327401Z"
    },
    "papermill": {
     "duration": 0.054432,
     "end_time": "2021-02-05T08:45:13.328588",
     "exception": false,
     "start_time": "2021-02-05T08:45:13.274156",
     "status": "completed"
    },
    "tags": []
   },
   "outputs": [
    {
     "name": "stdout",
     "output_type": "stream",
     "text": [
      "Outlook\n",
      "Sunny \n",
      "\n",
      "Humidity\n",
      "High \n",
      "\n",
      "Humidity\n",
      "Normal \n",
      "\n",
      "Outlook\n",
      "Overcast \n",
      "\n",
      "Outlook\n",
      "Rainy \n",
      "\n",
      "WindSpeed\n",
      "Weak \n",
      "\n",
      "WindSpeed\n",
      "Strong \n",
      "\n"
     ]
    }
   ],
   "source": [
    "dt = DecisionTree(df, 'Play', 'Yes', '', '')\n",
    "dt.update_nodes()\n",
    "print_tree(dt)"
   ]
  },
  {
   "cell_type": "markdown",
   "metadata": {
    "papermill": {
     "duration": 0.010437,
     "end_time": "2021-02-05T08:45:13.349574",
     "exception": false,
     "start_time": "2021-02-05T08:45:13.339137",
     "status": "completed"
    },
    "tags": []
   },
   "source": [
    "![](https://cdn-images-1.medium.com/max/800/1*c0KNcY0rkSLDYPlLuHOLOQ.png)"
   ]
  }
 ],
 "metadata": {
  "kernelspec": {
   "display_name": "Python 3",
   "language": "python",
   "name": "python3"
  },
  "language_info": {
   "codemirror_mode": {
    "name": "ipython",
    "version": 3
   },
   "file_extension": ".py",
   "mimetype": "text/x-python",
   "name": "python",
   "nbconvert_exporter": "python",
   "pygments_lexer": "ipython3",
   "version": "3.11.1"
  },
  "papermill": {
   "default_parameters": {},
   "duration": 7.029864,
   "end_time": "2021-02-05T08:45:13.992387",
   "environment_variables": {},
   "exception": null,
   "input_path": "__notebook__.ipynb",
   "output_path": "__notebook__.ipynb",
   "parameters": {},
   "start_time": "2021-02-05T08:45:06.962523",
   "version": "2.2.2"
  },
  "vscode": {
   "interpreter": {
    "hash": "c261aea317cc0286b3b3261fbba9abdec21eaa57589985bb7a274bf54d6cc0a7"
   }
  }
 },
 "nbformat": 4,
 "nbformat_minor": 4
}
